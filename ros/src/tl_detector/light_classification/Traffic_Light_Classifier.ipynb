{
 "cells": [
  {
   "cell_type": "markdown",
   "metadata": {},
   "source": [
    "# Load Data"
   ]
  },
  {
   "cell_type": "code",
   "execution_count": 2,
   "metadata": {},
   "outputs": [],
   "source": [
    "import numpy as np\n",
    "%matplotlib inline\n",
    "import matplotlib\n",
    "import matplotlib.pyplot as plt\n",
    "import cv2\n",
    "import random\n",
    "import os\n",
    "import numpy as np"
   ]
  },
  {
   "cell_type": "code",
   "execution_count": 4,
   "metadata": {
    "collapsed": true
   },
   "outputs": [],
   "source": [
    "anno_path_box = \"./dataset/Annotations/daySequence1/frameAnnotationsBOX.csv\"\n",
    "anno_path_bulb = \"./dataset/Annotations/daySequence1/frameAnnotationsBULB.csv\"\n",
    "frames_path = \"./dataset/daySequence1/frames/\"\n",
    "\n",
    "images = []\n",
    "labels = []\n",
    "with open(anno_path_box) as fp:  \n",
    "    line = fp.readline()\n",
    "    line = fp.readline() # Skip header line with descriptions\n",
    "\n",
    "    while line:\n",
    "        anno_file_path = (line.strip()).split(\";\")\n",
    "        anno_file_id = anno_file_path[0].split(\"/\")[1]\n",
    "        \n",
    "        file_name = os.path.join(os.path.join(frames_path, anno_file_id))\n",
    "        \n",
    "        anno_left = int(anno_file_path[2])\n",
    "        anno_top = int(anno_file_path[3])\n",
    "        anno_right = int(anno_file_path[4])\n",
    "        anno_bot = int(anno_file_path[5])\n",
    "        \n",
    "        file = cv2.imread(file_name)\n",
    "        file = cv2.cvtColor(file, cv2.COLOR_BGR2RGB);\n",
    "        crop = file[anno_top:anno_bot, anno_left:anno_right]\n",
    "        resized = cv2.resize(crop, (32, 64))\n",
    "        \n",
    "        images.append(resized)\n",
    "        labels.append(\n",
    "            {'go': 0,\n",
    "             'goLeft': 0,\n",
    "             'goForward': 0,\n",
    "             'warning': 1,\n",
    "             'warningLeft': 1,\n",
    "             'stop': 2,\n",
    "             'stopLeft': 2\n",
    "            }[anno_file_path[1]]\n",
    "        )\n",
    "        \n",
    "        line = fp.readline()"
   ]
  },
  {
   "cell_type": "code",
   "execution_count": 5,
   "metadata": {
    "collapsed": true
   },
   "outputs": [],
   "source": [
    "import numpy as np\n",
    "from sklearn.model_selection import train_test_split\n",
    "\n",
    "X_train, X_test, y_train, y_test = train_test_split(np.array(images), np.array(labels), test_size=0.33, random_state=42)"
   ]
  },
  {
   "cell_type": "code",
   "execution_count": 6,
   "metadata": {},
   "outputs": [
    {
     "name": "stdout",
     "output_type": "stream",
     "text": [
      "Number of training examples = 5293\n",
      "Number of testing examples = 2607\n",
      "Image data shape = (64, 32, 3)\n",
      "Number of classes = 3\n"
     ]
    }
   ],
   "source": [
    "n_train = len(X_train)\n",
    "n_test = len(X_test)\n",
    "image_shape = X_train[0].shape\n",
    "n_classes = len(np.unique(y_train))\n",
    "\n",
    "print(\"Number of training examples =\", n_train)\n",
    "print(\"Number of testing examples =\", n_test)\n",
    "print(\"Image data shape =\", image_shape)\n",
    "print(\"Number of classes =\", n_classes)"
   ]
  },
  {
   "cell_type": "markdown",
   "metadata": {
    "collapsed": true
   },
   "source": [
    "# Train NN"
   ]
  },
  {
   "cell_type": "code",
   "execution_count": 4,
   "metadata": {},
   "outputs": [
    {
     "name": "stderr",
     "output_type": "stream",
     "text": [
      "Using TensorFlow backend.\n"
     ]
    }
   ],
   "source": [
    "from keras.models import Sequential\n",
    "from keras.layers import Conv2D, Flatten, Dense, MaxPooling2D, Dropout\n",
    "from keras.utils.np_utils import to_categorical\n",
    "from keras import losses, optimizers, regularizers\n",
    "from keras.models import load_model"
   ]
  },
  {
   "cell_type": "code",
   "execution_count": 8,
   "metadata": {
    "collapsed": true
   },
   "outputs": [],
   "source": [
    "categorical_labels = to_categorical(y_train)"
   ]
  },
  {
   "cell_type": "code",
   "execution_count": 9,
   "metadata": {
    "collapsed": true
   },
   "outputs": [],
   "source": [
    "num_classes = 3\n",
    "model = Sequential()\n",
    "model.add(Conv2D(32, (3, 3), input_shape=(64, 32, 3), padding='same', activation='relu', kernel_initializer='random_uniform', kernel_regularizer=regularizers.l2(0.01)))\n",
    "model.add(MaxPooling2D(2,2))\n",
    "#Dropout(0.8)\n",
    "#model.add(Conv2D(32, (3, 3), padding='same', activation='relu', kernel_initializer='random_uniform', kernel_regularizer=regularizers.l2(0.01)))\n",
    "#model.add(MaxPooling2D(2,2))\n",
    "Dropout(0.5)\n",
    "model.add(Flatten())\n",
    "\n",
    "#model.add(Dense(128, activation='relu', kernel_initializer='random_uniform', kernel_regularizer=regularizers.l2(0.01)))\n",
    "model.add(Dense(8, activation='relu', kernel_initializer='random_uniform', kernel_regularizer=regularizers.l2(0.01)))\n",
    "model.add(Dense(num_classes, activation='softmax'))"
   ]
  },
  {
   "cell_type": "code",
   "execution_count": 10,
   "metadata": {
    "collapsed": true
   },
   "outputs": [],
   "source": [
    "loss = losses.categorical_crossentropy\n",
    "optimizer = optimizers.Adam()"
   ]
  },
  {
   "cell_type": "code",
   "execution_count": 11,
   "metadata": {
    "collapsed": true
   },
   "outputs": [],
   "source": [
    "model.compile(loss=loss, optimizer=optimizer, metrics=['accuracy'])"
   ]
  },
  {
   "cell_type": "code",
   "execution_count": 12,
   "metadata": {},
   "outputs": [
    {
     "name": "stdout",
     "output_type": "stream",
     "text": [
      "Train on 4763 samples, validate on 530 samples\n",
      "Epoch 1/100\n",
      "4763/4763 [==============================] - 5s 1ms/step - loss: 2.1029 - acc: 0.8780 - val_loss: 1.2437 - val_acc: 0.9509\n",
      "Epoch 2/100\n",
      "4763/4763 [==============================] - 1s 228us/step - loss: 1.1356 - acc: 0.9561 - val_loss: 1.1788 - val_acc: 0.9509\n",
      "Epoch 3/100\n",
      "4763/4763 [==============================] - 1s 229us/step - loss: 1.0611 - acc: 0.9578 - val_loss: 1.1104 - val_acc: 0.9566\n",
      "Epoch 4/100\n",
      "4763/4763 [==============================] - 1s 227us/step - loss: 1.0070 - acc: 0.9609 - val_loss: 1.0746 - val_acc: 0.9547\n",
      "Epoch 5/100\n",
      "4763/4763 [==============================] - 1s 229us/step - loss: 0.9671 - acc: 0.9614 - val_loss: 1.0339 - val_acc: 0.9566\n",
      "Epoch 6/100\n",
      "4763/4763 [==============================] - 1s 229us/step - loss: 0.9416 - acc: 0.9603 - val_loss: 1.0075 - val_acc: 0.9566\n",
      "Epoch 7/100\n",
      "4763/4763 [==============================] - 1s 228us/step - loss: 0.9060 - acc: 0.9620 - val_loss: 0.9785 - val_acc: 0.9566\n",
      "Epoch 8/100\n",
      "4763/4763 [==============================] - 1s 228us/step - loss: 0.8797 - acc: 0.9620 - val_loss: 0.9544 - val_acc: 0.9566\n",
      "Epoch 9/100\n",
      "4763/4763 [==============================] - 1s 229us/step - loss: 0.8568 - acc: 0.9620 - val_loss: 0.9330 - val_acc: 0.9566\n",
      "Epoch 10/100\n",
      "4763/4763 [==============================] - 1s 228us/step - loss: 0.8364 - acc: 0.9620 - val_loss: 0.9138 - val_acc: 0.9566\n",
      "Epoch 11/100\n",
      "4763/4763 [==============================] - 1s 228us/step - loss: 0.8186 - acc: 0.9616 - val_loss: 0.9025 - val_acc: 0.9547\n",
      "Epoch 12/100\n",
      "4763/4763 [==============================] - 1s 228us/step - loss: 0.7662 - acc: 0.9213 - val_loss: 0.8501 - val_acc: 0.9377\n",
      "Epoch 13/100\n",
      "4763/4763 [==============================] - 1s 228us/step - loss: 0.4236 - acc: 0.9551 - val_loss: 0.2638 - val_acc: 0.9566\n",
      "Epoch 14/100\n",
      "4763/4763 [==============================] - 1s 228us/step - loss: 0.2493 - acc: 0.9616 - val_loss: 0.2392 - val_acc: 0.9566\n",
      "Epoch 15/100\n",
      "4763/4763 [==============================] - 1s 235us/step - loss: 0.2289 - acc: 0.9616 - val_loss: 0.2217 - val_acc: 0.9566\n",
      "Epoch 16/100\n",
      "4763/4763 [==============================] - 1s 229us/step - loss: 0.2116 - acc: 0.9618 - val_loss: 0.2054 - val_acc: 0.9566\n",
      "Epoch 17/100\n",
      "4763/4763 [==============================] - 1s 227us/step - loss: 0.2029 - acc: 0.9609 - val_loss: 0.1915 - val_acc: 0.9566\n",
      "Epoch 18/100\n",
      "4763/4763 [==============================] - 1s 229us/step - loss: 0.1836 - acc: 0.9633 - val_loss: 0.1780 - val_acc: 1.0000\n",
      "Epoch 19/100\n",
      "4763/4763 [==============================] - 1s 227us/step - loss: 0.1728 - acc: 0.9994 - val_loss: 0.1666 - val_acc: 0.9981\n",
      "Epoch 20/100\n",
      "4763/4763 [==============================] - 1s 228us/step - loss: 0.1656 - acc: 0.9977 - val_loss: 0.1608 - val_acc: 1.0000\n",
      "Epoch 21/100\n",
      "4763/4763 [==============================] - 1s 229us/step - loss: 0.1541 - acc: 0.9962 - val_loss: 0.2343 - val_acc: 0.9774\n",
      "Epoch 22/100\n",
      "4763/4763 [==============================] - 1s 228us/step - loss: 0.1654 - acc: 0.9859 - val_loss: 0.1417 - val_acc: 1.0000\n",
      "Epoch 23/100\n",
      "4763/4763 [==============================] - 1s 228us/step - loss: 0.1304 - acc: 0.9994 - val_loss: 0.1322 - val_acc: 0.9981\n",
      "Epoch 24/100\n",
      "4763/4763 [==============================] - 1s 228us/step - loss: 0.1183 - acc: 1.0000 - val_loss: 0.1220 - val_acc: 0.9981\n",
      "Epoch 25/100\n",
      "4763/4763 [==============================] - 1s 229us/step - loss: 0.1096 - acc: 1.0000 - val_loss: 0.1142 - val_acc: 0.9981\n",
      "Epoch 26/100\n",
      "4763/4763 [==============================] - 1s 227us/step - loss: 0.1011 - acc: 1.0000 - val_loss: 0.1055 - val_acc: 0.9981\n",
      "Epoch 27/100\n",
      "4763/4763 [==============================] - 1s 228us/step - loss: 0.0939 - acc: 1.0000 - val_loss: 0.0979 - val_acc: 0.9981\n",
      "Epoch 28/100\n",
      "4763/4763 [==============================] - 1s 228us/step - loss: 0.0871 - acc: 1.0000 - val_loss: 0.0907 - val_acc: 0.9981\n",
      "Epoch 29/100\n",
      "4763/4763 [==============================] - 1s 227us/step - loss: 0.0727 - acc: 0.9998 - val_loss: 0.0633 - val_acc: 1.0000\n",
      "Epoch 30/100\n",
      "4763/4763 [==============================] - 1s 229us/step - loss: 0.0585 - acc: 1.0000 - val_loss: 0.0568 - val_acc: 0.9981\n",
      "Epoch 31/100\n",
      "4763/4763 [==============================] - 1s 228us/step - loss: 0.0530 - acc: 1.0000 - val_loss: 0.0516 - val_acc: 1.0000\n",
      "Epoch 32/100\n",
      "4763/4763 [==============================] - 1s 229us/step - loss: 0.0485 - acc: 1.0000 - val_loss: 0.0485 - val_acc: 0.9981\n",
      "Epoch 33/100\n",
      "4763/4763 [==============================] - 1s 228us/step - loss: 0.0445 - acc: 1.0000 - val_loss: 0.0436 - val_acc: 1.0000\n",
      "Epoch 34/100\n",
      "4763/4763 [==============================] - 1s 229us/step - loss: 0.0534 - acc: 0.9973 - val_loss: 0.0506 - val_acc: 0.9981\n",
      "Epoch 35/100\n",
      "4763/4763 [==============================] - 1s 230us/step - loss: 0.0564 - acc: 0.9979 - val_loss: 0.0523 - val_acc: 0.9962\n",
      "Epoch 36/100\n",
      "4763/4763 [==============================] - 1s 228us/step - loss: 0.0432 - acc: 0.9998 - val_loss: 0.0396 - val_acc: 1.0000\n",
      "Epoch 37/100\n",
      "4763/4763 [==============================] - 1s 228us/step - loss: 0.0389 - acc: 0.9998 - val_loss: 0.0381 - val_acc: 0.9981\n",
      "Epoch 38/100\n",
      "4763/4763 [==============================] - 1s 227us/step - loss: 0.0352 - acc: 0.9998 - val_loss: 0.0339 - val_acc: 1.0000\n",
      "Epoch 39/100\n",
      "4763/4763 [==============================] - 1s 228us/step - loss: 0.0310 - acc: 1.0000 - val_loss: 0.0305 - val_acc: 1.0000\n",
      "Epoch 40/100\n",
      "4763/4763 [==============================] - 1s 227us/step - loss: 0.0281 - acc: 1.0000 - val_loss: 0.0272 - val_acc: 1.0000\n",
      "Epoch 41/100\n",
      "4763/4763 [==============================] - 1s 228us/step - loss: 0.0255 - acc: 1.0000 - val_loss: 0.0250 - val_acc: 1.0000\n",
      "Epoch 42/100\n",
      "4763/4763 [==============================] - 1s 227us/step - loss: 0.0238 - acc: 1.0000 - val_loss: 0.0265 - val_acc: 0.9981\n",
      "Epoch 43/100\n",
      "4763/4763 [==============================] - 1s 227us/step - loss: 0.0225 - acc: 1.0000 - val_loss: 0.0214 - val_acc: 1.0000\n",
      "Epoch 44/100\n",
      "4763/4763 [==============================] - 1s 229us/step - loss: 0.0259 - acc: 0.9990 - val_loss: 0.0388 - val_acc: 0.9962\n",
      "Epoch 45/100\n",
      "4763/4763 [==============================] - 1s 229us/step - loss: 0.1263 - acc: 0.9859 - val_loss: 0.0613 - val_acc: 0.9962\n",
      "Epoch 46/100\n",
      "4763/4763 [==============================] - 1s 227us/step - loss: 0.1572 - acc: 0.9878 - val_loss: 0.3381 - val_acc: 0.9811\n",
      "Epoch 47/100\n",
      "4763/4763 [==============================] - 1s 228us/step - loss: 0.3920 - acc: 0.9698 - val_loss: 0.1876 - val_acc: 0.9925\n",
      "Epoch 48/100\n",
      "4763/4763 [==============================] - 1s 227us/step - loss: 0.1304 - acc: 0.9937 - val_loss: 0.1826 - val_acc: 0.9811\n",
      "Epoch 49/100\n",
      "4763/4763 [==============================] - 1s 228us/step - loss: 0.1199 - acc: 0.9929 - val_loss: 0.0833 - val_acc: 0.9981\n",
      "Epoch 50/100\n",
      "4763/4763 [==============================] - 1s 228us/step - loss: 0.0810 - acc: 0.9975 - val_loss: 0.0730 - val_acc: 0.9981\n",
      "Epoch 51/100\n",
      "4763/4763 [==============================] - 1s 225us/step - loss: 0.0710 - acc: 0.9973 - val_loss: 0.0669 - val_acc: 0.9962\n",
      "Epoch 52/100\n",
      "4763/4763 [==============================] - 1s 226us/step - loss: 0.0634 - acc: 0.9975 - val_loss: 0.0572 - val_acc: 0.9981\n",
      "Epoch 53/100\n",
      "4763/4763 [==============================] - 1s 231us/step - loss: 0.0560 - acc: 0.9983 - val_loss: 0.0568 - val_acc: 0.9962\n",
      "Epoch 54/100\n",
      "4763/4763 [==============================] - 1s 229us/step - loss: 0.0539 - acc: 0.9987 - val_loss: 0.0474 - val_acc: 1.0000\n",
      "Epoch 55/100\n",
      "4763/4763 [==============================] - 1s 228us/step - loss: 0.0479 - acc: 0.9990 - val_loss: 0.0452 - val_acc: 0.9981\n",
      "Epoch 56/100\n",
      "4763/4763 [==============================] - 1s 228us/step - loss: 0.0432 - acc: 0.9990 - val_loss: 0.0393 - val_acc: 1.0000\n",
      "Epoch 57/100\n",
      "4763/4763 [==============================] - 1s 228us/step - loss: 0.0389 - acc: 0.9992 - val_loss: 0.0373 - val_acc: 0.9981\n",
      "Epoch 58/100\n",
      "4763/4763 [==============================] - 1s 229us/step - loss: 0.0355 - acc: 0.9996 - val_loss: 0.0333 - val_acc: 1.0000\n",
      "Epoch 59/100\n",
      "4763/4763 [==============================] - 1s 226us/step - loss: 0.0330 - acc: 0.9996 - val_loss: 0.0349 - val_acc: 0.9981\n",
      "Epoch 60/100\n",
      "4763/4763 [==============================] - 1s 227us/step - loss: 0.0299 - acc: 1.0000 - val_loss: 0.0310 - val_acc: 0.9981\n",
      "Epoch 61/100\n",
      "4763/4763 [==============================] - 1s 228us/step - loss: 0.0280 - acc: 1.0000 - val_loss: 0.0285 - val_acc: 0.9981\n",
      "Epoch 62/100\n",
      "4763/4763 [==============================] - 1s 228us/step - loss: 0.0259 - acc: 1.0000 - val_loss: 0.0263 - val_acc: 0.9981\n",
      "Epoch 63/100\n",
      "4763/4763 [==============================] - 1s 228us/step - loss: 0.0242 - acc: 1.0000 - val_loss: 0.0250 - val_acc: 0.9981\n",
      "Epoch 64/100\n",
      "4763/4763 [==============================] - 1s 228us/step - loss: 0.0227 - acc: 1.0000 - val_loss: 0.0231 - val_acc: 1.0000\n",
      "Epoch 65/100\n",
      "4763/4763 [==============================] - 1s 229us/step - loss: 0.0211 - acc: 1.0000 - val_loss: 0.0217 - val_acc: 1.0000\n",
      "Epoch 66/100\n",
      "4763/4763 [==============================] - 1s 228us/step - loss: 0.0197 - acc: 1.0000 - val_loss: 0.0203 - val_acc: 1.0000\n",
      "Epoch 67/100\n",
      "4763/4763 [==============================] - 1s 229us/step - loss: 0.0184 - acc: 1.0000 - val_loss: 0.0194 - val_acc: 1.0000\n",
      "Epoch 68/100\n",
      "4763/4763 [==============================] - 1s 231us/step - loss: 0.0175 - acc: 1.0000 - val_loss: 0.0185 - val_acc: 0.9981\n",
      "Epoch 69/100\n",
      "4763/4763 [==============================] - 1s 228us/step - loss: 0.0163 - acc: 1.0000 - val_loss: 0.0167 - val_acc: 1.0000\n",
      "Epoch 70/100\n",
      "4763/4763 [==============================] - 1s 232us/step - loss: 0.0151 - acc: 1.0000 - val_loss: 0.0154 - val_acc: 1.0000\n",
      "Epoch 71/100\n",
      "4763/4763 [==============================] - 1s 229us/step - loss: 0.0144 - acc: 1.0000 - val_loss: 0.0168 - val_acc: 0.9981\n",
      "Epoch 72/100\n",
      "4763/4763 [==============================] - 1s 227us/step - loss: 0.0186 - acc: 0.9990 - val_loss: 0.0169 - val_acc: 1.0000\n",
      "Epoch 73/100\n",
      "4763/4763 [==============================] - 1s 229us/step - loss: 0.0210 - acc: 0.9985 - val_loss: 0.0157 - val_acc: 1.0000\n",
      "Epoch 74/100\n",
      "4763/4763 [==============================] - 1s 228us/step - loss: 0.0153 - acc: 0.9998 - val_loss: 0.0147 - val_acc: 1.0000\n",
      "Epoch 75/100\n",
      "4763/4763 [==============================] - 1s 230us/step - loss: 0.0652 - acc: 0.9950 - val_loss: 0.0327 - val_acc: 0.9981\n",
      "Epoch 76/100\n",
      "4763/4763 [==============================] - 1s 227us/step - loss: 0.0253 - acc: 0.9992 - val_loss: 0.0195 - val_acc: 1.0000\n",
      "Epoch 77/100\n",
      "4763/4763 [==============================] - 1s 229us/step - loss: 0.0195 - acc: 0.9990 - val_loss: 0.0174 - val_acc: 1.0000\n",
      "Epoch 78/100\n",
      "4763/4763 [==============================] - 1s 227us/step - loss: 0.0163 - acc: 0.9996 - val_loss: 0.0155 - val_acc: 0.9981\n",
      "Epoch 79/100\n",
      "4763/4763 [==============================] - 1s 229us/step - loss: 0.0145 - acc: 0.9996 - val_loss: 0.0162 - val_acc: 0.9981\n",
      "Epoch 80/100\n",
      "4763/4763 [==============================] - 1s 227us/step - loss: 0.0129 - acc: 0.9998 - val_loss: 0.0125 - val_acc: 1.0000\n",
      "Epoch 81/100\n",
      "4763/4763 [==============================] - 1s 228us/step - loss: 0.0117 - acc: 0.9998 - val_loss: 0.0129 - val_acc: 0.9981\n",
      "Epoch 82/100\n",
      "4763/4763 [==============================] - 1s 227us/step - loss: 0.0108 - acc: 1.0000 - val_loss: 0.0115 - val_acc: 0.9981\n",
      "Epoch 83/100\n",
      "4763/4763 [==============================] - 1s 230us/step - loss: 0.0100 - acc: 1.0000 - val_loss: 0.0111 - val_acc: 0.9981\n",
      "Epoch 84/100\n",
      "4763/4763 [==============================] - 1s 229us/step - loss: 0.0095 - acc: 1.0000 - val_loss: 0.0111 - val_acc: 0.9981\n",
      "Epoch 85/100\n",
      "4763/4763 [==============================] - 1s 228us/step - loss: 0.0087 - acc: 1.0000 - val_loss: 0.0114 - val_acc: 0.9981\n",
      "Epoch 86/100\n",
      "4763/4763 [==============================] - 1s 228us/step - loss: 0.0082 - acc: 1.0000 - val_loss: 0.0114 - val_acc: 0.9962\n",
      "Epoch 87/100\n",
      "4763/4763 [==============================] - 1s 228us/step - loss: 0.0076 - acc: 1.0000 - val_loss: 0.0091 - val_acc: 0.9981\n",
      "Epoch 88/100\n",
      "4763/4763 [==============================] - 1s 229us/step - loss: 0.0074 - acc: 1.0000 - val_loss: 0.0095 - val_acc: 0.9962\n",
      "Epoch 89/100\n",
      "4763/4763 [==============================] - 1s 227us/step - loss: 0.0068 - acc: 1.0000 - val_loss: 0.0080 - val_acc: 1.0000\n",
      "Epoch 90/100\n",
      "4763/4763 [==============================] - 1s 228us/step - loss: 0.0064 - acc: 1.0000 - val_loss: 0.0081 - val_acc: 1.0000\n",
      "Epoch 91/100\n",
      "4763/4763 [==============================] - 1s 227us/step - loss: 0.0064 - acc: 1.0000 - val_loss: 0.0087 - val_acc: 0.9981\n",
      "Epoch 92/100\n",
      "4763/4763 [==============================] - 1s 228us/step - loss: 0.0062 - acc: 1.0000 - val_loss: 0.0077 - val_acc: 1.0000\n",
      "Epoch 93/100\n",
      "4763/4763 [==============================] - 1s 227us/step - loss: 0.0057 - acc: 1.0000 - val_loss: 0.0070 - val_acc: 1.0000\n",
      "Epoch 94/100\n",
      "4763/4763 [==============================] - 1s 227us/step - loss: 0.0077 - acc: 0.9996 - val_loss: 0.0094 - val_acc: 0.9981\n",
      "Epoch 95/100\n",
      "4763/4763 [==============================] - 1s 228us/step - loss: 0.0092 - acc: 0.9994 - val_loss: 0.0100 - val_acc: 0.9981\n",
      "Epoch 96/100\n",
      "4763/4763 [==============================] - 1s 230us/step - loss: 0.0081 - acc: 1.0000 - val_loss: 0.0128 - val_acc: 0.9981\n",
      "Epoch 97/100\n",
      "4763/4763 [==============================] - 1s 228us/step - loss: 0.0080 - acc: 1.0000 - val_loss: 0.0083 - val_acc: 0.9981\n",
      "Epoch 98/100\n",
      "4763/4763 [==============================] - 1s 229us/step - loss: 0.0068 - acc: 0.9998 - val_loss: 0.0071 - val_acc: 1.0000\n",
      "Epoch 99/100\n",
      "4763/4763 [==============================] - 1s 228us/step - loss: 0.0168 - acc: 0.9979 - val_loss: 0.0139 - val_acc: 1.0000\n",
      "Epoch 100/100\n",
      "4763/4763 [==============================] - 1s 230us/step - loss: 0.0333 - acc: 0.9952 - val_loss: 0.0283 - val_acc: 0.9981\n"
     ]
    },
    {
     "data": {
      "text/plain": [
       "<keras.callbacks.History at 0x7f485a70fc50>"
      ]
     },
     "execution_count": 12,
     "metadata": {},
     "output_type": "execute_result"
    }
   ],
   "source": [
    "model.fit(X_train, categorical_labels, batch_size=64, epochs=100, verbose=True, validation_split=0.1, shuffle=True)"
   ]
  },
  {
   "cell_type": "code",
   "execution_count": 13,
   "metadata": {},
   "outputs": [
    {
     "name": "stdout",
     "output_type": "stream",
     "text": [
      "['loss', 'acc']\n",
      "[0.024741279206932119, 0.99886642735688647]\n"
     ]
    }
   ],
   "source": [
    "score = model.evaluate(X_train, categorical_labels, verbose=0)\n",
    "print(model.metrics_names)\n",
    "print(score)"
   ]
  },
  {
   "cell_type": "code",
   "execution_count": 5,
   "metadata": {},
   "outputs": [
    {
     "ename": "NameError",
     "evalue": "name 'model' is not defined",
     "output_type": "error",
     "traceback": [
      "\u001b[0;31m---------------------------------------------------------------------------\u001b[0m",
      "\u001b[0;31mNameError\u001b[0m                                 Traceback (most recent call last)",
      "\u001b[0;32m<ipython-input-5-605a5fb898e2>\u001b[0m in \u001b[0;36m<module>\u001b[0;34m()\u001b[0m\n\u001b[1;32m      1\u001b[0m \u001b[0;32mimport\u001b[0m \u001b[0mh5py\u001b[0m\u001b[0;34m\u001b[0m\u001b[0m\n\u001b[0;32m----> 2\u001b[0;31m \u001b[0mmodel\u001b[0m\u001b[0;34m.\u001b[0m\u001b[0msave\u001b[0m\u001b[0;34m(\u001b[0m\u001b[0;34m'traffic_light_classifier.h5'\u001b[0m\u001b[0;34m)\u001b[0m\u001b[0;34m\u001b[0m\u001b[0m\n\u001b[0m",
      "\u001b[0;31mNameError\u001b[0m: name 'model' is not defined"
     ]
    }
   ],
   "source": [
    "import h5py\n",
    "model.save('traffic_light_classifier.h5')"
   ]
  },
  {
   "cell_type": "code",
   "execution_count": 6,
   "metadata": {
    "collapsed": true
   },
   "outputs": [],
   "source": [
    "loaded_model = load_model('traffic_light_classifier.h5')"
   ]
  },
  {
   "cell_type": "code",
   "execution_count": null,
   "metadata": {
    "collapsed": true
   },
   "outputs": [],
   "source": []
  },
  {
   "cell_type": "code",
   "execution_count": 73,
   "metadata": {},
   "outputs": [
    {
     "data": {
      "image/png": "[encoded data removed]",
      "text/plain": [
       "<matplotlib.figure.Figure at 0x7f48584a2128>"
      ]
     },
     "metadata": {},
     "output_type": "display_data"
    },
    {
     "name": "stdout",
     "output_type": "stream",
     "text": [
      "0\n"
     ]
    },
    {
     "data": {
      "text/plain": [
       "array([[  1.00000000e+00,   2.35974833e-11,   9.00124972e-14]], dtype=float32)"
      ]
     },
     "execution_count": 73,
     "metadata": {},
     "output_type": "execute_result"
    }
   ],
   "source": [
    "from random import randint\n",
    "index = randint(1, len(X_train)) - 1\n",
    "img = X_train[index]\n",
    "plt.imshow(img)\n",
    "plt.show()\n",
    "print(y_train[index])\n",
    "\n",
    "from keras.preprocessing import image\n",
    "import numpy as np\n",
    "\n",
    "x = image.img_to_array(img)\n",
    "x = np.expand_dims(x, axis=0)\n",
    "\n",
    "loaded_model.predict(x)"
   ]
  },
  {
   "cell_type": "code",
   "execution_count": 34,
   "metadata": {},
   "outputs": [
    {
     "data": {
      "image/png": "[encoded data removed]",
      "text/plain": [
       "<matplotlib.figure.Figure at 0x7f480e118e80>"
      ]
     },
     "metadata": {},
     "output_type": "display_data"
    },
    {
     "data": {
      "text/plain": [
       "{'go': 0,\n",
       " 'goForward': 0,\n",
       " 'goLeft': 0,\n",
       " 'stop': 2,\n",
       " 'stopLeft': 2,\n",
       " 'warning': 1,\n",
       " 'warningLeft': 1}"
      ]
     },
     "execution_count": 34,
     "metadata": {},
     "output_type": "execute_result"
    }
   ],
   "source": [
    "plt.hist(labels, bins='auto')  # arguments are passed to np.histogram\n",
    "plt.title(\"Histogram with 'auto' bins\")\n",
    "plt.show()\n",
    "\n",
    "\n",
    "{'go': 0,\n",
    " 'goLeft': 0,\n",
    " 'goForward': 0,\n",
    " 'warning': 1,\n",
    " 'warningLeft': 1,\n",
    " 'stop': 2,\n",
    " 'stopLeft': 2\n",
    "}"
   ]
  },
  {
   "cell_type": "code",
   "execution_count": 42,
   "metadata": {},
   "outputs": [
    {
     "data": {
      "text/plain": [
       "array([[ 1.,  0.,  0.],\n",
       "       [ 0.,  0.,  1.],\n",
       "       [ 1.,  0.,  0.],\n",
       "       ..., \n",
       "       [ 0.,  0.,  1.],\n",
       "       [ 1.,  0.,  0.],\n",
       "       [ 1.,  0.,  0.]], dtype=float32)"
      ]
     },
     "execution_count": 42,
     "metadata": {},
     "output_type": "execute_result"
    }
   ],
   "source": [
    "categorical_labels"
   ]
  },
  {
   "cell_type": "code",
   "execution_count": 41,
   "metadata": {},
   "outputs": [
    {
     "data": {
      "text/plain": [
       "array([0, 2, 0, ..., 2, 0, 0])"
      ]
     },
     "execution_count": 41,
     "metadata": {},
     "output_type": "execute_result"
    }
   ],
   "source": [
    "y_train"
   ]
  },
  {
   "cell_type": "code",
   "execution_count": 8,
   "metadata": {},
   "outputs": [
    {
     "name": "stdout",
     "output_type": "stream",
     "text": [
      "227.jpg\n",
      "[[  1.62554067e-10   1.00000000e+00   7.99638133e-11]]\n",
      "228.jpg\n",
      "[[  6.66529345e-14   1.00000000e+00   4.23909714e-13]]\n",
      "281.jpg\n",
      "[[  1.26009492e-09   8.65753440e-19   1.00000000e+00]]\n",
      "282.jpg\n",
      "[[  3.78886935e-26   0.00000000e+00   1.00000000e+00]]\n"
     ]
    }
   ],
   "source": [
    "from keras.preprocessing import image\n",
    "import numpy as np\n",
    "\n",
    "images_carla = ['227.jpg', '228.jpg', '281.jpg', '282.jpg']\n",
    "\n",
    "for current_image in images_carla:\n",
    "    file_440 = cv2.imread(current_image)\n",
    "    file_440 = cv2.cvtColor(file_440, cv2.COLOR_BGR2RGB);\n",
    "    resized_440 = cv2.resize(file_440, (32, 64))\n",
    "\n",
    "    resized_440 = np.array(resized_440)\n",
    "\n",
    "    x_440 = image.img_to_array(resized_440)\n",
    "    x_440 = np.expand_dims(x_440, axis=0)\n",
    "\n",
    "    print(current_image)\n",
    "    print(loaded_model.predict(x_440))"
   ]
  },
  {
   "cell_type": "code",
   "execution_count": null,
   "metadata": {
    "collapsed": true
   },
   "outputs": [],
   "source": []
  }
 ],
 "metadata": {
  "anaconda-cloud": {},
  "kernelspec": {
   "display_name": "Python 3",
   "language": "python",
   "name": "python3"
  },
  "language_info": {
   "codemirror_mode": {
    "name": "ipython",
    "version": 3
   },
   "file_extension": ".py",
   "mimetype": "text/x-python",
   "name": "python",
   "nbconvert_exporter": "python",
   "pygments_lexer": "ipython3",
   "version": "3.6.1"
  }
 },
 "nbformat": 4,
 "nbformat_minor": 1
}
